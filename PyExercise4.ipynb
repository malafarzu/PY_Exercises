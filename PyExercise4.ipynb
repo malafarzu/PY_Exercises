{
 "cells": [
  {
   "cell_type": "code",
   "execution_count": 1,
   "metadata": {},
   "outputs": [
    {
     "name": "stdout",
     "output_type": "stream",
     "text": [
      "140734748009136 140734748009136\n",
      "True\n"
     ]
    }
   ],
   "source": [
    "x = 10 # Creating the int() instance\n",
    "y = 10\n",
    "print(id(x), id(y))\n",
    "print(x is y)"
   ]
  },
  {
   "cell_type": "code",
   "execution_count": 2,
   "metadata": {},
   "outputs": [
    {
     "name": "stdout",
     "output_type": "stream",
     "text": [
      "140734748009168 140734748009136\n",
      "False\n"
     ]
    }
   ],
   "source": [
    "x += 1\n",
    "print(id(x), id(y))\n",
    "print(x is y)"
   ]
  },
  {
   "cell_type": "markdown",
   "metadata": {},
   "source": [
    "# Functions"
   ]
  },
  {
   "cell_type": "code",
   "execution_count": 1,
   "metadata": {},
   "outputs": [
    {
     "name": "stdout",
     "output_type": "stream",
     "text": [
      "Hello and welcome Alam\n"
     ]
    }
   ],
   "source": [
    "#Write a function called hello(name) that returns a string of characters.\n",
    "#This function will take as argument a variable name. This function will return a string 'Hello name'\n",
    "def hello(name):\n",
    "    print(\"Hello and welcome\", name)\n",
    "    \n",
    "hello('Alam')"
   ]
  },
  {
   "cell_type": "code",
   "execution_count": 2,
   "metadata": {},
   "outputs": [
    {
     "name": "stdout",
     "output_type": "stream",
     "text": [
      "Number of elements in the list:  5\n"
     ]
    }
   ],
   "source": [
    "#Create a function \"sumOfStudents()\" that calculates and returns the number of students in a list.\n",
    "#The function will have to return an integer\n",
    "list_s = ['Alain', 'Leo', 'Boby', 'Happy', 'Sam']\n",
    "\n",
    "def sumOfStudents(list):\n",
    "    count = 0\n",
    "    for element in list:\n",
    "        count += 1\n",
    "    return count\n",
    "\n",
    "print(\"Number of elements in the list: \", sumOfStudents(list_s))"
   ]
  },
  {
   "cell_type": "code",
   "execution_count": null,
   "metadata": {},
   "outputs": [],
   "source": [
    "#Create a function isDivisible(n, x, y) that checks if a number n is divisible by two numbers x AND y.\n",
    "#All inputs are positive, non-zero digits\n",
    "\n",
    "def is_divisible(n, x, y):\n",
    "    if 12 % 7 == 0 and 12 % 5 == 0:  \n",
    "        return True\n",
    "    else: \n",
    "        return False\n",
    "    \n",
    "result = is_divisible(n=int(input()),x=int(input()),y=int(input()))\n",
    "print(result)"
   ]
  },
  {
   "cell_type": "code",
   "execution_count": 1,
   "metadata": {},
   "outputs": [
    {
     "data": {
      "text/plain": [
       "30"
      ]
     },
     "execution_count": 1,
     "metadata": {},
     "output_type": "execute_result"
    }
   ],
   "source": [
    "#You get an array of numbers, return the sum of all of the positives ones\n",
    "\n",
    "a = [1, 2, 3, -4, 5, 9, 6, 4, -7]\n",
    "sum(x for x in a if x > 0)"
   ]
  },
  {
   "cell_type": "code",
   "execution_count": 2,
   "metadata": {},
   "outputs": [
    {
     "name": "stdout",
     "output_type": "stream",
     "text": [
      "JW\n"
     ]
    }
   ],
   "source": [
    "def initials(name):\n",
    "    words = name.split()\n",
    "    result = \"\" \n",
    "    for word in words:\n",
    "        result += word[0].upper()\n",
    "    return result\n",
    "print(initials('John Wick'))"
   ]
  },
  {
   "cell_type": "code",
   "execution_count": 3,
   "metadata": {},
   "outputs": [
    {
     "name": "stdout",
     "output_type": "stream",
     "text": [
      "22\n"
     ]
    }
   ],
   "source": [
    "#Given an array of integers as strings and numbers, return the sum of the array values as if all were numbers\n",
    "def sum_mix(arr):\n",
    "    return  sum([int(i) for i in arr if type(i)== int or i.isdigit()])\n",
    "m_array = [2, 4, '3', 5, '7',1]\n",
    "print(sum_mix(m_array))\n",
    "    "
   ]
  },
  {
   "cell_type": "code",
   "execution_count": null,
   "metadata": {},
   "outputs": [],
   "source": [
    "#Complete the function which returns the weekday according to the input number:\n",
    "\n",
    "days=[\"Monday\",\"Tuesday\",\"Wednesday\",\"Thursday\",\"Friday\",\"Saturday\",\"Sunday\"]\n",
    "\n",
    "## accepts an integer, no strings, if weekday is more than 6 - prints error and returns something else than a week day\n",
    "def dayNameFromWeekday(weekday):\n",
    "    if weekday>6:\n",
    "        print('error');\n",
    "        return 'please enter a number between 1 and 6'\n",
    "    return days[weekday]\n",
    "\n",
    "\n",
    "## get keyboard input but convert it to int\n",
    "nb = int(input('Enter weekday number [0 - 6]: '))\n",
    "print('\\n')\n",
    "\n",
    "## print the result of the function\n",
    "print('today is: ' + dayNameFromWeekday(nb))\n"
   ]
  },
  {
   "cell_type": "code",
   "execution_count": 1,
   "metadata": {},
   "outputs": [],
   "source": [
    "#Write a program that finds the summation of every number from 1 to num.\n",
    "#The number will always be a positive integer greater than 0\n",
    "def summation(num):\n",
    "\n",
    "    result = 0\n",
    "    count = 1\n",
    "\n",
    "    while count <= num:\n",
    "        result += count\n",
    "        count += 1\n",
    "\n",
    "    return result\n",
    "if __name__ == '__main__':\n",
    "    #e.g\n",
    "    assert summation(1) == 1\n",
    "\n",
    "    #test2\n",
    "    assert summation(8) == 36"
   ]
  },
  {
   "cell_type": "code",
   "execution_count": 2,
   "metadata": {},
   "outputs": [
    {
     "name": "stdout",
     "output_type": "stream",
     "text": [
      "sheep ... sheep sheep ... sheep sheep sheep ... sheep sheep sheep sheep ... ZZZzzzzzzz\n"
     ]
    }
   ],
   "source": [
    "def countSheep(sheepToCount):\n",
    "        sheepString = \"\"\n",
    "        outputString = \"\"\n",
    "        for i in range(sheepToCount):\n",
    "                sheepString += \"sheep \"\n",
    "                outputString += \"{}... \".format(sheepString)\n",
    "        outputString +=\"ZZZzzzzzzz\"\n",
    "        print(outputString)\n",
    "\n",
    "countSheep(4)"
   ]
  },
  {
   "cell_type": "code",
   "execution_count": 3,
   "metadata": {},
   "outputs": [
    {
     "data": {
      "text/plain": [
       "90"
      ]
     },
     "execution_count": 3,
     "metadata": {},
     "output_type": "execute_result"
    }
   ],
   "source": [
    "#Create a function finalGrade, which calculates the final grade of a student depending on two parameters:\n",
    "#a grade for the exam and a number of completed projects.\n",
    "def finalGrade(exam, projects): \n",
    "    if (exam > 90 or projects >= 10): \n",
    "        return 100\n",
    "    elif (exam > 75 or projects >= 5): \n",
    "        return 90\n",
    "    elif (exam > 50 or projects >= 2): \n",
    "        return 75\n",
    "    else: \n",
    "        return 0\n",
    "finalGrade(1,5)"
   ]
  },
  {
   "cell_type": "code",
   "execution_count": null,
   "metadata": {},
   "outputs": [],
   "source": []
  }
 ],
 "metadata": {
  "kernelspec": {
   "display_name": "Python 3",
   "language": "python",
   "name": "python3"
  },
  "language_info": {
   "codemirror_mode": {
    "name": "ipython",
    "version": 3
   },
   "file_extension": ".py",
   "mimetype": "text/x-python",
   "name": "python",
   "nbconvert_exporter": "python",
   "pygments_lexer": "ipython3",
   "version": "3.7.4"
  }
 },
 "nbformat": 4,
 "nbformat_minor": 2
}
